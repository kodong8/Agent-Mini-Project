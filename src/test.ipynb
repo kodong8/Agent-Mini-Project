{
 "cells": [
  {
   "cell_type": "code",
   "execution_count": 11,
   "metadata": {},
   "outputs": [
    {
     "name": "stdout",
     "output_type": "stream",
     "text": [
      "문서의 페이지수: 144\n"
     ]
    }
   ],
   "source": [
    "from langchain_community.document_loaders import PyMuPDFLoader\n",
    "\n",
    "loader = PyMuPDFLoader(\"../data/eu_ai_act.pdf\")\n",
    "docs = loader.load()\n",
    "\n",
    "print(f\"문서의 페이지수: {len(docs)}\")"
   ]
  },
  {
   "cell_type": "code",
   "execution_count": 12,
   "metadata": {},
   "outputs": [
    {
     "name": "stdout",
     "output_type": "stream",
     "text": [
      "input data directly acquired by an AI system in the course of the use of such system as well as the results and outputs \n",
      "of the use linked to that authorisation. It should not include input that is legally acquired in accordance with another \n",
      "Union or national law. In any case, no decision producing an adverse legal effect on a person should be taken based \n",
      "solely on the output of the remote biometric identification system.\n",
      "(36)\n",
      "In order to carry out their tasks in accordance with the requirements set out in this Regulation as well as in national \n",
      "rules, the relevant market surveillance authority and the national data protection authority should be notified of each \n",
      "use of the real-time biometric identification system. Market surveillance authorities and the national data protection \n",
      "authorities that have been notified should submit to the Commission an annual report on the use of real-time \n",
      "biometric identification systems.\n",
      "(37)\n",
      "Furthermore, it is appropriate to provide, within the exhaustive framework set by this Regulation that such use in \n",
      "the territory of a Member State in accordance with this Regulation should only be possible where and in as far as the \n",
      "Member State concerned has decided to expressly provide for the possibility to authorise such use in its detailed rules \n",
      "of national law. Consequently, Member States remain free under this Regulation not to provide for such a possibility \n",
      "at all or to only provide for such a possibility in respect of some of the objectives capable of justifying authorised use \n",
      "identified in this Regulation. Such national rules should be notified to the Commission within 30 days of their \n",
      "adoption.\n",
      "(38)\n",
      "The use of AI systems for real-time remote biometric identification of natural persons in publicly accessible spaces \n",
      "for the purpose of law enforcement necessarily involves the processing of biometric data. The rules of this \n",
      "Regulation that prohibit, subject to certain exceptions, such use, which are based on Article 16 TFEU, should apply \n",
      "as lex specialis in respect of the rules on the processing of biometric data contained in Article 10 of Directive (EU) \n",
      "2016/680, thus regulating such use and the processing of biometric data involved in an exhaustive manner. \n",
      "Therefore, such use and processing should be possible only in as far as it is compatible with the framework set by \n",
      "this Regulation, without there being scope, outside that framework, for the competent authorities, where they act for \n",
      "purpose of law enforcement, to use such systems and process such data in connection thereto on the grounds listed \n",
      "in Article 10 of Directive (EU) 2016/680. In that context, this Regulation is not intended to provide the legal basis \n",
      "for the processing of personal data under Article 8 of Directive (EU) 2016/680. However, the use of real-time remote \n",
      "biometric identification systems in publicly accessible spaces for purposes other than law enforcement, including by \n",
      "competent authorities, should not be covered by the specific framework regarding such use for the purpose of law \n",
      "enforcement set by this Regulation. Such use for purposes other than law enforcement should therefore not be \n",
      "subject to the requirement of an authorisation under this Regulation and the applicable detailed rules of national law \n",
      "that may give effect to that authorisation.\n",
      "(39)\n",
      "Any processing of biometric data and other personal data involved in the use of AI systems for biometric \n",
      "identification, other than in connection to the use of real-time remote biometric identification systems in publicly \n",
      "accessible spaces for the purpose of law enforcement as regulated by this Regulation, should continue to comply \n",
      "with all requirements resulting from Article 10 of Directive (EU) 2016/680. For purposes other than law \n",
      "enforcement, Article 9(1) of Regulation (EU) 2016/679 and Article 10(1) of Regulation (EU) 2018/1725 prohibit the \n",
      "processing of biometric data subject to limited exceptions as provided in those Articles. In the application of Article \n",
      "9(1) of Regulation (EU) 2016/679, the use of remote biometric identification for purposes other than law \n",
      "enforcement has already been subject to prohibition decisions by national data protection authorities.\n",
      "(40)\n",
      "In accordance with Article 6a of Protocol No 21 on the position of the United Kingdom and Ireland in respect of the \n",
      "area of freedom, security and justice, as annexed to the TEU and to the TFEU, Ireland is not bound by the rules laid \n",
      "down in Article 5(1), first subparagraph, point (g), to the extent it applies to the use of biometric categorisation \n",
      "systems for activities in the field of police cooperation and judicial cooperation in criminal matters, Article 5(1), first \n",
      "subparagraph, point (d), to the extent it applies to the use of AI systems covered by that provision, Article 5(1), first \n",
      "subparagraph, point (h), Article 5(2) to (6) and Article 26(10) of this Regulation adopted on the basis of Article 16 \n",
      "TFEU which relate to the processing of personal data by the Member States when carrying out activities falling \n",
      "within the scope of Chapter 4 or Chapter 5 of Title V of Part Three of the TFEU, where Ireland is not bound by the \n",
      "rules governing the forms of judicial cooperation in criminal matters or police cooperation which require \n",
      "compliance with the provisions laid down on the basis of Article 16 TFEU.\n",
      "(41)\n",
      "In accordance with Articles 2 and 2a of Protocol No 22 on the position of Denmark, annexed to the TEU and to the \n",
      "TFEU, Denmark is not bound by rules laid down in Article 5(1), first subparagraph, point (g), to the extent it applies \n",
      "to the use of biometric categorisation systems for activities in the field of police cooperation and judicial cooperation \n",
      "in criminal matters, Article 5(1), first subparagraph, point (d), to the extent it applies to the use of AI systems \n",
      "covered by that provision, Article 5(1), first subparagraph, point (h), (2) to (6) and Article 26(10) of this Regulation \n",
      "OJ L, 12.7.2024\n",
      "EN\n",
      "ELI: http://data.europa.eu/eli/reg/2024/1689/oj\n",
      "11/144\n"
     ]
    }
   ],
   "source": [
    "print(docs[10].page_content)"
   ]
  },
  {
   "cell_type": "code",
   "execution_count": 13,
   "metadata": {},
   "outputs": [
    {
     "data": {
      "text/plain": [
       "{'id': None,\n",
       " 'metadata': {'producer': 'PDFlib+PDI 9.0.7p3 (C++/Win64)',\n",
       "  'creator': 'Servigistics Arbortext Publishing Engine',\n",
       "  'creationdate': '2024-07-11T14:47:17+02:00',\n",
       "  'source': '../data/eu_ai_act.pdf',\n",
       "  'file_path': '../data/eu_ai_act.pdf',\n",
       "  'total_pages': 144,\n",
       "  'format': 'PDF 1.7',\n",
       "  'title': 'Regulation (EU) 2024/1689 of the European Parliament and of the Council of 13 June 2024 laying down harmonised rules on artificial intelligence and amending Regulations (EC) No 300/2008, (EU) No 167/2013, (EU) No 168/2013, (EU) 2018/858, (EU) 2018/1139 and (EU) 2019/2144 and Directives 2014/90/EU, (EU) 2016/797 and (EU) 2020/1828 (Artificial Intelligence Act)Text with EEA relevance.',\n",
       "  'author': 'Publications Office of the European Union L-2985 Luxembourg LUXEMBOURG',\n",
       "  'subject': 'I Legislative acts',\n",
       "  'keywords': 'ISSN 1977-0677',\n",
       "  'moddate': '2024-07-11T15:55:28+02:00',\n",
       "  'trapped': '',\n",
       "  'modDate': \"D:20240711155528+02'00'\",\n",
       "  'creationDate': \"D:20240711144717+02'00'\",\n",
       "  'page': 10},\n",
       " 'page_content': 'input data directly acquired by an AI system in the course of the use of such system as well as the results and outputs \\nof the use linked to that authorisation. It should not include input that is legally acquired in accordance with another \\nUnion or national law. In any case, no decision producing an adverse legal effect on a person should be taken based \\nsolely on the output of the remote biometric identification system.\\n(36)\\nIn order to carry out their tasks in accordance with the requirements set out in this Regulation as well as in national \\nrules, the relevant market surveillance authority and the national data protection authority should be notified of each \\nuse of the real-time biometric identification system. Market surveillance authorities and the national data protection \\nauthorities that have been notified should submit to the Commission an annual report on the use of real-time \\nbiometric identification systems.\\n(37)\\nFurthermore, it is appropriate to provide, within the exhaustive framework set by this Regulation that such use in \\nthe territory of a Member State in accordance with this Regulation should only be possible where and in as far as the \\nMember State concerned has decided to expressly provide for the possibility to authorise such use in its detailed rules \\nof national law. Consequently, Member States remain free under this Regulation not to provide for such a possibility \\nat all or to only provide for such a possibility in respect of some of the objectives capable of justifying authorised use \\nidentified in this Regulation. Such national rules should be notified to the Commission within 30 days of their \\nadoption.\\n(38)\\nThe use of AI systems for real-time remote biometric identification of natural persons in publicly accessible spaces \\nfor the purpose of law enforcement necessarily involves the processing of biometric data. The rules of this \\nRegulation that prohibit, subject to certain exceptions, such use, which are based on Article 16 TFEU, should apply \\nas lex specialis in respect of the rules on the processing of biometric data contained in Article 10 of Directive (EU) \\n2016/680, thus regulating such use and the processing of biometric data involved in an exhaustive manner. \\nTherefore, such use and processing should be possible only in as far as it is compatible with the framework set by \\nthis Regulation, without there being scope, outside that framework, for the competent authorities, where they act for \\npurpose of law enforcement, to use such systems and process such data in connection thereto on the grounds listed \\nin Article 10 of Directive (EU) 2016/680. In that context, this Regulation is not intended to provide the legal basis \\nfor the processing of personal data under Article 8 of Directive (EU) 2016/680. However, the use of real-time remote \\nbiometric identification systems in publicly accessible spaces for purposes other than law enforcement, including by \\ncompetent authorities, should not be covered by the specific framework regarding such use for the purpose of law \\nenforcement set by this Regulation. Such use for purposes other than law enforcement should therefore not be \\nsubject to the requirement of an authorisation under this Regulation and the applicable detailed rules of national law \\nthat may give effect to that authorisation.\\n(39)\\nAny processing of biometric data and other personal data involved in the use of AI systems for biometric \\nidentification, other than in connection to the use of real-time remote biometric identification systems in publicly \\naccessible spaces for the purpose of law enforcement as regulated by this Regulation, should continue to comply \\nwith all requirements resulting from Article 10 of Directive (EU) 2016/680. For purposes other than law \\nenforcement, Article 9(1) of Regulation (EU) 2016/679 and Article 10(1) of Regulation (EU) 2018/1725 prohibit the \\nprocessing of biometric data subject to limited exceptions as provided in those Articles. In the application of Article \\n9(1) of Regulation (EU) 2016/679, the use of remote biometric identification for purposes other than law \\nenforcement has already been subject to prohibition decisions by national data protection authorities.\\n(40)\\nIn accordance with Article 6a of Protocol No 21 on the position of the United Kingdom and Ireland in respect of the \\narea of freedom, security and justice, as annexed to the TEU and to the TFEU, Ireland is not bound by the rules laid \\ndown in Article 5(1), first subparagraph, point (g), to the extent it applies to the use of biometric categorisation \\nsystems for activities in the field of police cooperation and judicial cooperation in criminal matters, Article 5(1), first \\nsubparagraph, point (d), to the extent it applies to the use of AI systems covered by that provision, Article 5(1), first \\nsubparagraph, point (h), Article 5(2) to (6) and Article 26(10) of this Regulation adopted on the basis of Article 16 \\nTFEU which relate to the processing of personal data by the Member States when carrying out activities falling \\nwithin the scope of Chapter 4 or Chapter 5 of Title V of Part Three of the TFEU, where Ireland is not bound by the \\nrules governing the forms of judicial cooperation in criminal matters or police cooperation which require \\ncompliance with the provisions laid down on the basis of Article 16 TFEU.\\n(41)\\nIn accordance with Articles 2 and 2a of Protocol No 22 on the position of Denmark, annexed to the TEU and to the \\nTFEU, Denmark is not bound by rules laid down in Article 5(1), first subparagraph, point (g), to the extent it applies \\nto the use of biometric categorisation systems for activities in the field of police cooperation and judicial cooperation \\nin criminal matters, Article 5(1), first subparagraph, point (d), to the extent it applies to the use of AI systems \\ncovered by that provision, Article 5(1), first subparagraph, point (h), (2) to (6) and Article 26(10) of this Regulation \\nOJ L, 12.7.2024\\nEN\\nELI: http://data.europa.eu/eli/reg/2024/1689/oj\\n11/144',\n",
       " 'type': 'Document'}"
      ]
     },
     "execution_count": 13,
     "metadata": {},
     "output_type": "execute_result"
    }
   ],
   "source": [
    "docs[10].__dict__"
   ]
  },
  {
   "cell_type": "code",
   "execution_count": 14,
   "metadata": {},
   "outputs": [
    {
     "data": {
      "text/plain": [
       "{'producer': 'PDFlib+PDI 9.0.7p3 (C++/Win64)',\n",
       " 'creator': 'Servigistics Arbortext Publishing Engine',\n",
       " 'creationdate': '2024-07-11T14:47:17+02:00',\n",
       " 'source': '../data/eu_ai_act.pdf',\n",
       " 'file_path': '../data/eu_ai_act.pdf',\n",
       " 'total_pages': 144,\n",
       " 'format': 'PDF 1.7',\n",
       " 'title': 'Regulation (EU) 2024/1689 of the European Parliament and of the Council of 13 June 2024 laying down harmonised rules on artificial intelligence and amending Regulations (EC) No 300/2008, (EU) No 167/2013, (EU) No 168/2013, (EU) 2018/858, (EU) 2018/1139 and (EU) 2019/2144 and Directives 2014/90/EU, (EU) 2016/797 and (EU) 2020/1828 (Artificial Intelligence Act)Text with EEA relevance.',\n",
       " 'author': 'Publications Office of the European Union L-2985 Luxembourg LUXEMBOURG',\n",
       " 'subject': 'I Legislative acts',\n",
       " 'keywords': 'ISSN 1977-0677',\n",
       " 'moddate': '2024-07-11T15:55:28+02:00',\n",
       " 'trapped': '',\n",
       " 'modDate': \"D:20240711155528+02'00'\",\n",
       " 'creationDate': \"D:20240711144717+02'00'\",\n",
       " 'page': 1}"
      ]
     },
     "execution_count": 14,
     "metadata": {},
     "output_type": "execute_result"
    }
   ],
   "source": [
    "docs[1].metadata"
   ]
  },
  {
   "cell_type": "code",
   "execution_count": 15,
   "metadata": {},
   "outputs": [
    {
     "name": "stdout",
     "output_type": "stream",
     "text": [
      "분할된 청크의수: 1398\n"
     ]
    }
   ],
   "source": [
    "from langchain_text_splitters import RecursiveCharacterTextSplitter\n",
    "\n",
    "text_splitter = RecursiveCharacterTextSplitter(chunk_size=500, chunk_overlap=50)\n",
    "split_documents = text_splitter.split_documents(docs)\n",
    "\n",
    "print(f\"분할된 청크의수: {len(split_documents)}\")"
   ]
  },
  {
   "cell_type": "code",
   "execution_count": null,
   "metadata": {},
   "outputs": [
    {
     "name": "stderr",
     "output_type": "stream",
     "text": [
      "\u001b[32m2025-05-20 13:08:31.311\u001b[0m | \u001b[1mINFO    \u001b[0m | \u001b[36m__main__\u001b[0m:\u001b[36msave_vector_db\u001b[0m:\u001b[36m24\u001b[0m - \u001b[1m벡터 데이터베이스가 성공적으로 저장되었습니다: ./data/vectorstore\u001b[0m\n"
     ]
    },
    {
     "data": {
      "text/plain": [
       "True"
      ]
     },
     "execution_count": 24,
     "metadata": {},
     "output_type": "execute_result"
    }
   ],
   "source": [
    "from langchain_community.vectorstores import FAISS\n",
    "from langchain.embeddings import HuggingFaceEmbeddings\n",
    "embeddings = HuggingFaceEmbeddings(model_name=\"sentence-transformers/all-MiniLM-L6-v2\")\n",
    "\n",
    "vector_db = FAISS.from_documents(split_documents, embeddings)\n",
    "# 벡터 DB 저장하기\n",
    "def save_vector_db(vector_db, path=\".data/vectorstore\"):\n",
    "    \"\"\"\n",
    "    FAISS 벡터 데이터베이스를 지정된 경로에 저장합니다.\n",
    "    \n",
    "    Args:\n",
    "        vector_db: FAISS 벡터 스토어 인스턴스\n",
    "        path: 저장 경로 (기본값: \"./vectorstore\")\n",
    "    \"\"\"\n",
    "    import os\n",
    "    from loguru import logger\n",
    "    \n",
    "    try:\n",
    "        # 디렉토리가 없으면 생성\n",
    "        os.makedirs(path, exist_ok=True)\n",
    "        \n",
    "        # 벡터 스토어 저장\n",
    "        vector_db.save_local(path)\n",
    "        logger.info(f\"벡터 데이터베이스가 성공적으로 저장되었습니다: {path}\")\n",
    "        return True\n",
    "    except Exception as e:\n",
    "        logger.error(f\"벡터 데이터베이스 저장 중 오류 발생: {e}\")\n",
    "        return False\n",
    "    \n",
    "save_vector_db(vector_db, path = \"./data/vectorstore\")"
   ]
  },
  {
   "cell_type": "code",
   "execution_count": 32,
   "metadata": {},
   "outputs": [],
   "source": [
    "from langchain.embeddings import HuggingFaceEmbeddings\n",
    "\n",
    "embeddings = HuggingFaceEmbeddings(model_name=\"sentence-transformers/all-MiniLM-L6-v2\")\n",
    "vector_db_path = \"./data/vectorstore\"\n",
    "\n",
    "def load_vector_db(embeddings, vector_db_path):\n",
    "    \"\"\"벡터 데이터베이스를 로드합니다.\"\"\"\n",
    "    return FAISS(vector_db_path, embeddings)\n"
   ]
  },
  {
   "cell_type": "code",
   "execution_count": 37,
   "metadata": {},
   "outputs": [
    {
     "data": {
      "text/plain": [
       "[Document(id='47f0dfbd-410a-4963-b0c2-1a9cad5ae34a', metadata={'producer': 'PDFlib+PDI 9.0.7p3 (C++/Win64)', 'creator': 'Servigistics Arbortext Publishing Engine', 'creationdate': '2024-07-11T14:47:17+02:00', 'source': '../data/eu_ai_act.pdf', 'file_path': '../data/eu_ai_act.pdf', 'total_pages': 144, 'format': 'PDF 1.7', 'title': 'Regulation (EU) 2024/1689 of the European Parliament and of the Council of 13 June 2024 laying down harmonised rules on artificial intelligence and amending Regulations (EC) No 300/2008, (EU) No 167/2013, (EU) No 168/2013, (EU) 2018/858, (EU) 2018/1139 and (EU) 2019/2144 and Directives 2014/90/EU, (EU) 2016/797 and (EU) 2020/1828 (Artificial Intelligence Act)Text with EEA relevance.', 'author': 'Publications Office of the European Union L-2985 Luxembourg LUXEMBOURG', 'subject': 'I Legislative acts', 'keywords': 'ISSN 1977-0677', 'moddate': '2024-07-11T15:55:28+02:00', 'trapped': '', 'modDate': \"D:20240711155528+02'00'\", 'creationDate': \"D:20240711144717+02'00'\", 'page': 80}, page_content='high-risk according to Article 6(3), that provider or, where applicable, the authorised representative shall register \\nthemselves and that system in the EU database referred to in Article 71.\\n3.\\nBefore putting into service or using a high-risk AI system listed in Annex III, with the exception of high-risk AI \\nsystems listed in point 2 of Annex III, deployers that are public authorities, Union institutions, bodies, offices or agencies or'),\n",
       " Document(id='7c02b5f9-fd5c-42c3-bf91-5138100affd3', metadata={'producer': 'PDFlib+PDI 9.0.7p3 (C++/Win64)', 'creator': 'Servigistics Arbortext Publishing Engine', 'creationdate': '2024-07-11T14:47:17+02:00', 'source': '../data/eu_ai_act.pdf', 'file_path': '../data/eu_ai_act.pdf', 'total_pages': 144, 'format': 'PDF 1.7', 'title': 'Regulation (EU) 2024/1689 of the European Parliament and of the Council of 13 June 2024 laying down harmonised rules on artificial intelligence and amending Regulations (EC) No 300/2008, (EU) No 167/2013, (EU) No 168/2013, (EU) 2018/858, (EU) 2018/1139 and (EU) 2019/2144 and Directives 2014/90/EU, (EU) 2016/797 and (EU) 2020/1828 (Artificial Intelligence Act)Text with EEA relevance.', 'author': 'Publications Office of the European Union L-2985 Luxembourg LUXEMBOURG', 'subject': 'I Legislative acts', 'keywords': 'ISSN 1977-0677', 'moddate': '2024-07-11T15:55:28+02:00', 'trapped': '', 'modDate': \"D:20240711155528+02'00'\", 'creationDate': \"D:20240711144717+02'00'\", 'page': 67}, page_content='8.\\nDeployers of high-risk AI systems that are public authorities, or Union institutions, bodies, offices or agencies shall \\ncomply with the registration obligations referred to in Article 49. When such deployers find that the high-risk AI system \\nthat they envisage using has not been registered in the EU database referred to in Article 71, they shall not use that system \\nand shall inform the provider or the distributor.\\n9.'),\n",
       " Document(id='37eaeae3-9a1e-40e0-b4ae-90392412131d', metadata={'producer': 'PDFlib+PDI 9.0.7p3 (C++/Win64)', 'creator': 'Servigistics Arbortext Publishing Engine', 'creationdate': '2024-07-11T14:47:17+02:00', 'source': '../data/eu_ai_act.pdf', 'file_path': '../data/eu_ai_act.pdf', 'total_pages': 144, 'format': 'PDF 1.7', 'title': 'Regulation (EU) 2024/1689 of the European Parliament and of the Council of 13 June 2024 laying down harmonised rules on artificial intelligence and amending Regulations (EC) No 300/2008, (EU) No 167/2013, (EU) No 168/2013, (EU) 2018/858, (EU) 2018/1139 and (EU) 2019/2144 and Directives 2014/90/EU, (EU) 2016/797 and (EU) 2020/1828 (Artificial Intelligence Act)Text with EEA relevance.', 'author': 'Publications Office of the European Union L-2985 Luxembourg LUXEMBOURG', 'subject': 'I Legislative acts', 'keywords': 'ISSN 1977-0677', 'moddate': '2024-07-11T15:55:28+02:00', 'trapped': '', 'modDate': \"D:20240711155528+02'00'\", 'creationDate': \"D:20240711144717+02'00'\", 'page': 56}, page_content='consideration to whether in view of its intended purpose the high-risk AI system is likely to have an adverse impact on \\npersons under the age of 18 and, as appropriate, other vulnerable groups.\\n10.\\nFor providers of high-risk AI systems that are subject to requirements regarding internal risk management processes \\nunder other relevant provisions of Union law, the aspects provided in paragraphs 1 to 9 may be part of, or combined with,'),\n",
       " Document(id='47c4c800-12ce-4923-a8d3-464f59c0694b', metadata={'producer': 'PDFlib+PDI 9.0.7p3 (C++/Win64)', 'creator': 'Servigistics Arbortext Publishing Engine', 'creationdate': '2024-07-11T14:47:17+02:00', 'source': '../data/eu_ai_act.pdf', 'file_path': '../data/eu_ai_act.pdf', 'total_pages': 144, 'format': 'PDF 1.7', 'title': 'Regulation (EU) 2024/1689 of the European Parliament and of the Council of 13 June 2024 laying down harmonised rules on artificial intelligence and amending Regulations (EC) No 300/2008, (EU) No 167/2013, (EU) No 168/2013, (EU) 2018/858, (EU) 2018/1139 and (EU) 2019/2144 and Directives 2014/90/EU, (EU) 2016/797 and (EU) 2020/1828 (Artificial Intelligence Act)Text with EEA relevance.', 'author': 'Publications Office of the European Union L-2985 Luxembourg LUXEMBOURG', 'subject': 'I Legislative acts', 'keywords': 'ISSN 1977-0677', 'moddate': '2024-07-11T15:55:28+02:00', 'trapped': '', 'modDate': \"D:20240711155528+02'00'\", 'creationDate': \"D:20240711144717+02'00'\", 'page': 80}, page_content='Article 49\\nRegistration\\n1.\\nBefore placing on the market or putting into service a high-risk AI system listed in Annex III, with the exception of \\nhigh-risk AI systems referred to in point 2 of Annex III, the provider or, where applicable, the authorised representative \\nshall register themselves and their system in the EU database referred to in Article 71.\\n2.\\nBefore placing on the market or putting into service an AI system for which the provider has concluded that it is not')]"
      ]
     },
     "execution_count": 37,
     "metadata": {},
     "output_type": "execute_result"
    }
   ],
   "source": [
    "# 임베딩 모델 설정\n",
    "embeddings = HuggingFaceEmbeddings(model_name=\"sentence-transformers/all-MiniLM-L6-v2\")\n",
    "\n",
    "# 저장된 벡터 DB 경로\n",
    "vector_db_path = \"./data/vectorstore\"\n",
    "\n",
    "# 벡터 DB 로드\n",
    "vector_db = FAISS.load_local(vector_db_path, embeddings, allow_dangerous_deserialization=True)\n",
    "\n",
    "# Retriever 생성\n",
    "retriever = vector_db.as_retriever()\n",
    "query = '''High-risk AI systems recruitment \n",
    "AI agent requirements under EU AI Act Article 6, Article 9, Article 15, Article 52'''\n",
    "retriever.invoke(query)"
   ]
  },
  {
   "cell_type": "code",
   "execution_count": 16,
   "metadata": {},
   "outputs": [
    {
     "data": {
      "text/plain": [
       "[]"
      ]
     },
     "execution_count": 16,
     "metadata": {},
     "output_type": "execute_result"
    }
   ],
   "source": [
    "retriever.invoke()"
   ]
  },
  {
   "cell_type": "code",
   "execution_count": null,
   "metadata": {},
   "outputs": [],
   "source": []
  }
 ],
 "metadata": {
  "kernelspec": {
   "display_name": "my_venv",
   "language": "python",
   "name": "python3"
  },
  "language_info": {
   "codemirror_mode": {
    "name": "ipython",
    "version": 3
   },
   "file_extension": ".py",
   "mimetype": "text/x-python",
   "name": "python",
   "nbconvert_exporter": "python",
   "pygments_lexer": "ipython3",
   "version": "3.11.0"
  }
 },
 "nbformat": 4,
 "nbformat_minor": 2
}
